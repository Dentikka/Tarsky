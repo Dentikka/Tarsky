{
 "cells": [
  {
   "cell_type": "markdown",
   "id": "b9740831",
   "metadata": {},
   "source": [
    "# Библиотеки #"
   ]
  },
  {
   "cell_type": "code",
   "execution_count": 2,
   "id": "9228e4b3",
   "metadata": {
    "scrolled": true
   },
   "outputs": [],
   "source": [
    "from sympy import *"
   ]
  },
  {
   "cell_type": "code",
   "execution_count": 3,
   "id": "9b2cc1d3",
   "metadata": {},
   "outputs": [],
   "source": [
    "import pandas as pd"
   ]
  },
  {
   "cell_type": "code",
   "execution_count": 4,
   "id": "3c922f06",
   "metadata": {},
   "outputs": [],
   "source": [
    "from IPython.display import display"
   ]
  },
  {
   "cell_type": "markdown",
   "id": "a4b065a2",
   "metadata": {},
   "source": [
    "# Алгоритм #"
   ]
  },
  {
   "cell_type": "raw",
   "id": "2db822b4",
   "metadata": {},
   "source": [
    "+ Переменная formula - строка\n",
    "+ Создать замыкание (container = all_polynoms(pol))\n",
    "+ Создать список уникальных полиномов (unique_polynoms(container))\n",
    "+ Выкинуть истинные константы (drop_const(container))\n",
    "+ Цикл по 3 в степени #констант (в 'main')\n",
    "+ Присвоить константам +1/-1/0, создать таблицу (table = select_sign(container[0], i))\n",
    "    + Цикл по степеням current_deg (в 'main')\n",
    "        + Цикл по многочленам current_polynom степени current_deg (в 'main')\n",
    "            + Добавить многочлен в таблицу (новая строчка) (add_row(table, current_polynom))\n",
    "            + Цикл по элементам новой строки\n",
    "                + Добавить новые столбцы (add_cloumn())\n",
    "    + Если в последней строчке есть 0, то добавляем в формулу этот набор знаков констант (add_to_formula(table, formula))\n",
    "    + Удаляем таблицу (table.clear)\n",
    "+ Печатаем формулу (print(formula))\n",
    "+ Удаляем контайнер (container.clear)"
   ]
  },
  {
   "cell_type": "raw",
   "id": "5f7c7e0b",
   "metadata": {},
   "source": [
    "Баги (фичи):\n",
    "1. Печатает улыбку, если формула всегда верная. Если неверная, то не печатает ничего.\n",
    "\n",
    "Надо доделать:\n",
    "1. В формуле может быть только\n",
    "    а) одно\n",
    "    б) уравнение (без неравенств и НЕравенств)\n",
    "    в) обязательно содержит константы\n",
    "2. Нужно убирать кванторы\n",
    "3. Можно уменьшить количество скобок в формуле: если 3^{n - 1} скобке есть одинаковое неравенство для одной из констант, то \n",
    "    можно их все заменить на это неравенство."
   ]
  },
  {
   "cell_type": "code",
   "execution_count": 43,
   "id": "2f73febc",
   "metadata": {},
   "outputs": [],
   "source": [
    "def algorithm(pol):\n",
    "    formula = ''\n",
    "    max_deg = deg(pol)\n",
    "    container = all_polynoms(pol)\n",
    "    countainer = unique_polynoms(container)\n",
    "    container = drop_const(container)\n",
    "    for i in range(3**len(container[0])):\n",
    "        table = select_sign(container[0], i)\n",
    "        for current_deg in range(1, max_deg + 1):\n",
    "            for number_of_polynom in range(len(container[current_deg])):\n",
    "                current_polynom = container[current_deg][number_of_polynom]\n",
    "                add_row(table, current_polynom, container)\n",
    "                current_cell_number = 0\n",
    "                len_row = len(table[-1])\n",
    "                while current_cell_number < len_row - 1:\n",
    "                    if table[-1][current_cell_number] * table[-1][current_cell_number + 1] == -1:\n",
    "                        add_column(table, current_cell_number)\n",
    "                        current_cell_number += 1\n",
    "                        len_row += 1\n",
    "                    current_cell_number += 1\n",
    "        formula = add_to_formula(table, container, formula)\n",
    "        table.clear()\n",
    "    formula = formula[:-4]\n",
    "    container.clear()\n",
    "    print(formula)"
   ]
  },
  {
   "cell_type": "markdown",
   "id": "df4c16c9",
   "metadata": {},
   "source": [
    "# Функции алгоритма #"
   ]
  },
  {
   "cell_type": "markdown",
   "id": "40040884",
   "metadata": {},
   "source": [
    "Подгон степени многочлена, чтобы у 0 она была 0, а не NegativeInfinity"
   ]
  },
  {
   "cell_type": "code",
   "execution_count": 6,
   "id": "21dbcf77",
   "metadata": {},
   "outputs": [],
   "source": [
    "def deg(pol):\n",
    "    deg = degree(pol)\n",
    "    if deg >= 0:\n",
    "        return deg\n",
    "    else:\n",
    "        return 0"
   ]
  },
  {
   "cell_type": "markdown",
   "id": "69ae3a18",
   "metadata": {},
   "source": [
    "Для нормального domain"
   ]
  },
  {
   "cell_type": "code",
   "execution_count": 7,
   "id": "ac87033c",
   "metadata": {},
   "outputs": [],
   "source": [
    "def norm(pol):\n",
    "    return poly(str(pol.expr), symbols('x'))"
   ]
  },
  {
   "cell_type": "markdown",
   "id": "161571c2",
   "metadata": {},
   "source": [
    "Создание для замыкания (до деления)"
   ]
  },
  {
   "cell_type": "code",
   "execution_count": 8,
   "id": "c1ff9bf3",
   "metadata": {},
   "outputs": [],
   "source": [
    "def all_polynoms_prime(pol):\n",
    "    container = [[] for _ in range(deg(pol) + 1)]\n",
    "    container[deg(pol)].append(pol)\n",
    "        \n",
    "    for current_deg in range(deg(pol), 0, -1):\n",
    "        for current_polynom in container[current_deg]:\n",
    "            \n",
    "            container[current_deg - 1].append(norm(diff(current_polynom)))\n",
    "            remove_LT = current_polynom - LT(current_polynom)\n",
    "            container[deg(remove_LT)].append(norm(remove_LT))\n",
    "            container[0].append(poly(str(LC(current_polynom)), x))\n",
    "                \n",
    "    return container"
   ]
  },
  {
   "cell_type": "markdown",
   "id": "da402b21",
   "metadata": {},
   "source": [
    "Та же функция, но использующая существующий контейнер"
   ]
  },
  {
   "cell_type": "code",
   "execution_count": 9,
   "id": "a13800c0",
   "metadata": {},
   "outputs": [],
   "source": [
    "def all_polynoms_prime_c(pol, container):\n",
    "    container\n",
    "    container[deg(pol)].append(pol)\n",
    "        \n",
    "    for current_deg in range(deg(pol), 0, -1):\n",
    "        for current_polynom in container[current_deg]:\n",
    "            \n",
    "            container[current_deg - 1].append(norm(diff(current_polynom)))\n",
    "            remove_LT = current_polynom - LT(current_polynom)\n",
    "            container[deg(remove_LT)].append(norm(remove_LT))\n",
    "            container[0].append(poly(str(LC(current_polynom)), x))"
   ]
  },
  {
   "cell_type": "markdown",
   "id": "3607d812",
   "metadata": {},
   "source": [
    "Создание замыкания (уже со всеми многочленами)."
   ]
  },
  {
   "cell_type": "code",
   "execution_count": 10,
   "id": "7092db54",
   "metadata": {},
   "outputs": [],
   "source": [
    "def all_polynoms(pol):\n",
    "    container = all_polynoms_prime(pol)\n",
    "    \n",
    "    for divisor_deg in range(1, deg(pol)):\n",
    "        for dividend_deg in range(divisor_deg, deg(pol) + 1):\n",
    "            for divisor in container[divisor_deg]:\n",
    "                for dividend in container[dividend_deg]:\n",
    "                    all_polynoms_prime_c(norm(rem(dividend * LC(divisor)**deg(dividend), divisor)), container)\n",
    "    return container"
   ]
  },
  {
   "cell_type": "markdown",
   "id": "e961aaba",
   "metadata": {},
   "source": [
    "Создание массива из уникальных многочленов"
   ]
  },
  {
   "cell_type": "code",
   "execution_count": 11,
   "id": "ad1f1fdf",
   "metadata": {},
   "outputs": [],
   "source": [
    "def unique_polynoms(container):\n",
    "    num_of_degs = len(container)\n",
    "    for current_deg in range(num_of_degs):\n",
    "        for current_polynom in container[current_deg]:\n",
    "            count = container[current_deg].count(current_polynom)\n",
    "            for i in range(count - 1):\n",
    "                container[current_deg].remove(current_polynom)\n",
    "    return container"
   ]
  },
  {
   "cell_type": "markdown",
   "id": "3b5ca953",
   "metadata": {},
   "source": [
    "Удаление истинных констант"
   ]
  },
  {
   "cell_type": "code",
   "execution_count": 12,
   "id": "1d940edc",
   "metadata": {},
   "outputs": [],
   "source": [
    "def drop_const(container):\n",
    "    cont = container[0]\n",
    "    i = 0\n",
    "    while i < len(cont):\n",
    "        i += 1\n",
    "        current_polynom = cont[i - 1]\n",
    "        if ((current_polynom.expr < 0) == True) or ((current_polynom.expr > 0) == True) or ((current_polynom.expr == 0) == True):\n",
    "            cont.remove(current_polynom)\n",
    "            i -= 1\n",
    "    return container"
   ]
  },
  {
   "cell_type": "markdown",
   "id": "1bae312d",
   "metadata": {},
   "source": [
    "Перевод числа в троичную систему счисления с ведущими нулями"
   ]
  },
  {
   "cell_type": "code",
   "execution_count": 13,
   "id": "8fc05991",
   "metadata": {},
   "outputs": [],
   "source": [
    "def to_trinary(x, number_of_digits):\n",
    "    num = x\n",
    "    base = 3\n",
    "    #newNum = '0' * number_of_digits\n",
    "    newNum = ''\n",
    "    for digit_number in range(number_of_digits):\n",
    "        newNum = str(num % base) + newNum\n",
    "        num //= base\n",
    "    return newNum"
   ]
  },
  {
   "cell_type": "markdown",
   "id": "ceb801c2",
   "metadata": {},
   "source": [
    "Присвоить константам +1/-1/0, создать таблицу (table = select_sign(container[0]))"
   ]
  },
  {
   "cell_type": "code",
   "execution_count": 14,
   "id": "03997afb",
   "metadata": {},
   "outputs": [],
   "source": [
    "def select_sign(constants, i):\n",
    "    number_of_constants = len(constants)\n",
    "    num_str = to_trinary(i, number_of_constants)\n",
    "    table = [[0, 0], ]\n",
    "    for const_num in range(len(constants)):\n",
    "        const = constants[const_num]\n",
    "        table.append([int(num_str[const_num]) - 1, int(num_str[const_num]) - 1])\n",
    "    return table"
   ]
  },
  {
   "cell_type": "markdown",
   "id": "8ffd24c9",
   "metadata": {},
   "source": [
    "Заполнение краев новой стрчоки"
   ]
  },
  {
   "cell_type": "code",
   "execution_count": 15,
   "id": "82b71851",
   "metadata": {},
   "outputs": [],
   "source": [
    "def put_edge(table, current_polynom, container):\n",
    "    deg_polynom = deg(current_polynom)\n",
    "    oldest = poly(str(LC(current_polynom)), x)\n",
    "    if ((oldest.expr < 0) == True) or ((oldest.expr > 0) == True) or ((oldest.expr == 0) == True):\n",
    "        if oldest.expr > 0:\n",
    "            right_sign = 1\n",
    "        elif oldest.expr < 0:\n",
    "            right_sign = -1\n",
    "        else:\n",
    "            print('error')\n",
    "    else:\n",
    "        LC_index = container[0].index(oldest)\n",
    "        right_sign = table[LC_index + 1][0]\n",
    "        if right_sign == 0:\n",
    "            remove_LT = norm(current_polynom - LT(current_polynom))\n",
    "            if ((remove_LT.expr < 0) == True) or ((remove_LT.expr > 0) == True) or ((remove_LT.expr == 0) == True):\n",
    "                if remove_LT.expr > 0:\n",
    "                    right_sign = 1\n",
    "                elif remove_LT.expr < 0:\n",
    "                    right_sign = -1\n",
    "                else:\n",
    "                    right_sign = 0\n",
    "            else:\n",
    "                old_row_number = find_row(remove_LT, container)\n",
    "                right_sign = table[old_row_number][-1]\n",
    "            deg_polynom = deg(remove_LT)\n",
    "    left_sign = right_sign\n",
    "    if deg_polynom % 2:\n",
    "        left_sign = -right_sign\n",
    "    table[-1][0] = left_sign\n",
    "    table[-1][-1] = right_sign"
   ]
  },
  {
   "cell_type": "markdown",
   "id": "de3b0e0f",
   "metadata": {},
   "source": [
    "Поиск многочлена по номеру его строчки в таблице"
   ]
  },
  {
   "cell_type": "code",
   "execution_count": 16,
   "id": "d362e524",
   "metadata": {},
   "outputs": [],
   "source": [
    "def find_polynom(row_number, container):\n",
    "    counter = row_number - 1\n",
    "    current_deg = 0\n",
    "    while counter >= 0:\n",
    "        counter -= len(container[current_deg])\n",
    "        current_deg += 1\n",
    "    current_deg -= 1\n",
    "    counter += len(container[current_deg])\n",
    "    return container[current_deg][counter]"
   ]
  },
  {
   "cell_type": "markdown",
   "id": "205a25ed",
   "metadata": {},
   "source": [
    "Поиск номера строчки в таблице по многочлену"
   ]
  },
  {
   "cell_type": "code",
   "execution_count": 17,
   "id": "3fffa4ae",
   "metadata": {},
   "outputs": [],
   "source": [
    "def find_row(polynom, container):\n",
    "    counter = 0\n",
    "    polynom_degree = deg(polynom)\n",
    "    for i in range(polynom_degree):\n",
    "        counter += len(container[i])\n",
    "    counter += container[polynom_degree].index(polynom)\n",
    "    return counter + 1"
   ]
  },
  {
   "cell_type": "markdown",
   "id": "ddb23632",
   "metadata": {},
   "source": [
    "Добавление строчки для нового многочлена в таблицу"
   ]
  },
  {
   "cell_type": "code",
   "execution_count": 18,
   "id": "c31bfeeb",
   "metadata": {},
   "outputs": [],
   "source": [
    "def add_row(table, current_polynom, container):\n",
    "    table_width = len(table[0])\n",
    "    table_height = len(table)\n",
    "    table.append([0 for _ in range(table_width)])\n",
    "    table_height += 1\n",
    "    put_edge(table, current_polynom, container)\n",
    "    for column_number in range(1, table_width - 1):\n",
    "        for row_number in range(1, table_height - 1):\n",
    "            if table[row_number][column_number] == 0:\n",
    "                divisor = find_polynom(row_number, container)\n",
    "                dividend = current_polynom\n",
    "                remainder = norm(rem(dividend * LC(divisor)**deg(dividend), divisor))\n",
    "                if ((remainder.expr < 0) == True) or ((remainder.expr > 0) == True) or ((remainder.expr == 0) == True):\n",
    "                    if remainder.expr > 0:\n",
    "                        table[table_height - 1][column_number] = 1\n",
    "                    elif remainder.expr < 0:\n",
    "                        table[table_height - 1][column_number] = -1\n",
    "                    else:\n",
    "                        table[table_height - 1][column_number] = 0\n",
    "                else:\n",
    "                    remainder_row = find_row(remainder, container)\n",
    "                    table[table_height - 1][column_number] = table[remainder_row][column_number]\n",
    "    return table"
   ]
  },
  {
   "cell_type": "markdown",
   "id": "3d1612fa",
   "metadata": {},
   "source": [
    "Добавление нового столбца"
   ]
  },
  {
   "cell_type": "code",
   "execution_count": 19,
   "id": "e5241e69",
   "metadata": {},
   "outputs": [],
   "source": [
    "def add_column(table, current_cell_number):\n",
    "    table[-1].insert(current_cell_number + 1, 0)\n",
    "    for current_row in table[:-1]:\n",
    "        left_value = current_row[current_cell_number]\n",
    "        right_value = current_row[current_cell_number + 1]\n",
    "        if left_value != 0:\n",
    "            current_row.insert(current_cell_number + 1, left_value)\n",
    "        elif right_value != 0:\n",
    "            current_row.insert(current_cell_number + 1, right_value)\n",
    "        else:\n",
    "            current_row.insert(current_cell_number + 1, 0)\n",
    "    return table"
   ]
  },
  {
   "cell_type": "markdown",
   "id": "e5d9fce6",
   "metadata": {},
   "source": [
    "Добавление неравенств на константы в формулу"
   ]
  },
  {
   "cell_type": "code",
   "execution_count": 39,
   "id": "467bc318",
   "metadata": {},
   "outputs": [],
   "source": [
    "def add_to_formula(table, container, formula):\n",
    "    if (table[-1].count(0) > 0) and (len(container[0]) > 0):\n",
    "        formula += '('\n",
    "        for i in range(len(container[0])):\n",
    "            current_const = container[0][i]\n",
    "            if table[i + 1][0] == 1:\n",
    "                formula += str(current_const.expr) + ' > 0 and '\n",
    "            elif table[i + 1][0] == 0:\n",
    "                formula += str(current_const.expr) + ' = 0 and '\n",
    "            else:\n",
    "                formula += str(current_const.expr) + ' < 0 and '\n",
    "        formula = formula[:-5]\n",
    "        formula += ') or '\n",
    "    return formula"
   ]
  },
  {
   "cell_type": "markdown",
   "id": "b86fff2f",
   "metadata": {},
   "source": [
    "# Скрипты для дебага #"
   ]
  },
  {
   "cell_type": "code",
   "execution_count": 21,
   "id": "fce0bfc2",
   "metadata": {},
   "outputs": [
    {
     "name": "stdout",
     "output_type": "stream",
     "text": [
      "(p < 0 and 3*p < 0 and 6*p < 0 and 216*p**3 < 0 and 27*p**3 < 0) or (p < 0 and 3*p < 0 and 6*p < 0 and 216*p**3 < 0 and 27*p**3 = 0) or (p < 0 and 3*p < 0 and 6*p < 0 and 216*p**3 < 0 and 27*p**3 > 0) or (p < 0 and 3*p < 0 and 6*p < 0 and 216*p**3 = 0 and 27*p**3 < 0) or (p < 0 and 3*p < 0 and 6*p < 0 and 216*p**3 = 0 and 27*p**3 = 0) or (p < 0 and 3*p < 0 and 6*p < 0 and 216*p**3 = 0 and 27*p**3 > 0) or (p < 0 and 3*p < 0 and 6*p < 0 and 216*p**3 > 0 and 27*p**3 < 0) or (p < 0 and 3*p < 0 and 6*p < 0 and 216*p**3 > 0 and 27*p**3 = 0) or (p < 0 and 3*p < 0 and 6*p < 0 and 216*p**3 > 0 and 27*p**3 > 0) or (p < 0 and 3*p < 0 and 6*p = 0 and 216*p**3 < 0 and 27*p**3 < 0) or (p < 0 and 3*p < 0 and 6*p = 0 and 216*p**3 < 0 and 27*p**3 = 0) or (p < 0 and 3*p < 0 and 6*p = 0 and 216*p**3 < 0 and 27*p**3 > 0) or (p < 0 and 3*p < 0 and 6*p = 0 and 216*p**3 = 0 and 27*p**3 < 0) or (p < 0 and 3*p < 0 and 6*p = 0 and 216*p**3 = 0 and 27*p**3 = 0) or (p < 0 and 3*p < 0 and 6*p = 0 and 216*p**3 = 0 and 27*p**3 > 0) or (p < 0 and 3*p < 0 and 6*p = 0 and 216*p**3 > 0 and 27*p**3 < 0) or (p < 0 and 3*p < 0 and 6*p = 0 and 216*p**3 > 0 and 27*p**3 = 0) or (p < 0 and 3*p < 0 and 6*p = 0 and 216*p**3 > 0 and 27*p**3 > 0) or (p < 0 and 3*p < 0 and 6*p > 0 and 216*p**3 < 0 and 27*p**3 < 0) or (p < 0 and 3*p < 0 and 6*p > 0 and 216*p**3 < 0 and 27*p**3 = 0) or (p < 0 and 3*p < 0 and 6*p > 0 and 216*p**3 < 0 and 27*p**3 > 0) or (p < 0 and 3*p < 0 and 6*p > 0 and 216*p**3 = 0 and 27*p**3 < 0) or (p < 0 and 3*p < 0 and 6*p > 0 and 216*p**3 = 0 and 27*p**3 = 0) or (p < 0 and 3*p < 0 and 6*p > 0 and 216*p**3 = 0 and 27*p**3 > 0) or (p < 0 and 3*p < 0 and 6*p > 0 and 216*p**3 > 0 and 27*p**3 < 0) or (p < 0 and 3*p < 0 and 6*p > 0 and 216*p**3 > 0 and 27*p**3 = 0) or (p < 0 and 3*p < 0 and 6*p > 0 and 216*p**3 > 0 and 27*p**3 > 0) or (p < 0 and 3*p = 0 and 6*p < 0 and 216*p**3 < 0 and 27*p**3 < 0) or (p < 0 and 3*p = 0 and 6*p < 0 and 216*p**3 < 0 and 27*p**3 = 0) or (p < 0 and 3*p = 0 and 6*p < 0 and 216*p**3 < 0 and 27*p**3 > 0) or (p < 0 and 3*p = 0 and 6*p < 0 and 216*p**3 = 0 and 27*p**3 < 0) or (p < 0 and 3*p = 0 and 6*p < 0 and 216*p**3 = 0 and 27*p**3 = 0) or (p < 0 and 3*p = 0 and 6*p < 0 and 216*p**3 = 0 and 27*p**3 > 0) or (p < 0 and 3*p = 0 and 6*p < 0 and 216*p**3 > 0 and 27*p**3 < 0) or (p < 0 and 3*p = 0 and 6*p < 0 and 216*p**3 > 0 and 27*p**3 = 0) or (p < 0 and 3*p = 0 and 6*p < 0 and 216*p**3 > 0 and 27*p**3 > 0) or (p < 0 and 3*p = 0 and 6*p = 0 and 216*p**3 < 0 and 27*p**3 < 0) or (p < 0 and 3*p = 0 and 6*p = 0 and 216*p**3 < 0 and 27*p**3 = 0) or (p < 0 and 3*p = 0 and 6*p = 0 and 216*p**3 < 0 and 27*p**3 > 0) or (p < 0 and 3*p = 0 and 6*p = 0 and 216*p**3 = 0 and 27*p**3 < 0) or (p < 0 and 3*p = 0 and 6*p = 0 and 216*p**3 = 0 and 27*p**3 = 0) or (p < 0 and 3*p = 0 and 6*p = 0 and 216*p**3 = 0 and 27*p**3 > 0) or (p < 0 and 3*p = 0 and 6*p = 0 and 216*p**3 > 0 and 27*p**3 < 0) or (p < 0 and 3*p = 0 and 6*p = 0 and 216*p**3 > 0 and 27*p**3 = 0) or (p < 0 and 3*p = 0 and 6*p = 0 and 216*p**3 > 0 and 27*p**3 > 0) or (p < 0 and 3*p = 0 and 6*p > 0 and 216*p**3 < 0 and 27*p**3 < 0) or (p < 0 and 3*p = 0 and 6*p > 0 and 216*p**3 < 0 and 27*p**3 = 0) or (p < 0 and 3*p = 0 and 6*p > 0 and 216*p**3 < 0 and 27*p**3 > 0) or (p < 0 and 3*p = 0 and 6*p > 0 and 216*p**3 = 0 and 27*p**3 < 0) or (p < 0 and 3*p = 0 and 6*p > 0 and 216*p**3 = 0 and 27*p**3 = 0) or (p < 0 and 3*p = 0 and 6*p > 0 and 216*p**3 = 0 and 27*p**3 > 0) or (p < 0 and 3*p = 0 and 6*p > 0 and 216*p**3 > 0 and 27*p**3 < 0) or (p < 0 and 3*p = 0 and 6*p > 0 and 216*p**3 > 0 and 27*p**3 = 0) or (p < 0 and 3*p = 0 and 6*p > 0 and 216*p**3 > 0 and 27*p**3 > 0) or (p < 0 and 3*p > 0 and 6*p < 0 and 216*p**3 < 0 and 27*p**3 < 0) or (p < 0 and 3*p > 0 and 6*p < 0 and 216*p**3 < 0 and 27*p**3 = 0) or (p < 0 and 3*p > 0 and 6*p < 0 and 216*p**3 < 0 and 27*p**3 > 0) or (p < 0 and 3*p > 0 and 6*p < 0 and 216*p**3 = 0 and 27*p**3 < 0) or (p < 0 and 3*p > 0 and 6*p < 0 and 216*p**3 = 0 and 27*p**3 = 0) or (p < 0 and 3*p > 0 and 6*p < 0 and 216*p**3 = 0 and 27*p**3 > 0) or (p < 0 and 3*p > 0 and 6*p < 0 and 216*p**3 > 0 and 27*p**3 < 0) or (p < 0 and 3*p > 0 and 6*p < 0 and 216*p**3 > 0 and 27*p**3 = 0) or (p < 0 and 3*p > 0 and 6*p < 0 and 216*p**3 > 0 and 27*p**3 > 0) or (p < 0 and 3*p > 0 and 6*p = 0 and 216*p**3 < 0 and 27*p**3 < 0) or (p < 0 and 3*p > 0 and 6*p = 0 and 216*p**3 < 0 and 27*p**3 = 0) or (p < 0 and 3*p > 0 and 6*p = 0 and 216*p**3 < 0 and 27*p**3 > 0) or (p < 0 and 3*p > 0 and 6*p = 0 and 216*p**3 = 0 and 27*p**3 < 0) or (p < 0 and 3*p > 0 and 6*p = 0 and 216*p**3 = 0 and 27*p**3 = 0) or (p < 0 and 3*p > 0 and 6*p = 0 and 216*p**3 = 0 and 27*p**3 > 0) or (p < 0 and 3*p > 0 and 6*p = 0 and 216*p**3 > 0 and 27*p**3 < 0) or (p < 0 and 3*p > 0 and 6*p = 0 and 216*p**3 > 0 and 27*p**3 = 0) or (p < 0 and 3*p > 0 and 6*p = 0 and 216*p**3 > 0 and 27*p**3 > 0) or (p < 0 and 3*p > 0 and 6*p > 0 and 216*p**3 < 0 and 27*p**3 < 0) or (p < 0 and 3*p > 0 and 6*p > 0 and 216*p**3 < 0 and 27*p**3 = 0) or (p < 0 and 3*p > 0 and 6*p > 0 and 216*p**3 < 0 and 27*p**3 > 0) or (p < 0 and 3*p > 0 and 6*p > 0 and 216*p**3 = 0 and 27*p**3 < 0) or (p < 0 and 3*p > 0 and 6*p > 0 and 216*p**3 = 0 and 27*p**3 = 0) or (p < 0 and 3*p > 0 and 6*p > 0 and 216*p**3 = 0 and 27*p**3 > 0) or (p < 0 and 3*p > 0 and 6*p > 0 and 216*p**3 > 0 and 27*p**3 < 0) or (p < 0 and 3*p > 0 and 6*p > 0 and 216*p**3 > 0 and 27*p**3 = 0) or (p < 0 and 3*p > 0 and 6*p > 0 and 216*p**3 > 0 and 27*p**3 > 0) or (p = 0 and 3*p < 0 and 6*p < 0 and 216*p**3 < 0 and 27*p**3 < 0) or (p = 0 and 3*p < 0 and 6*p < 0 and 216*p**3 < 0 and 27*p**3 = 0) or (p = 0 and 3*p < 0 and 6*p < 0 and 216*p**3 = 0 and 27*p**3 < 0) or (p = 0 and 3*p < 0 and 6*p < 0 and 216*p**3 = 0 and 27*p**3 = 0) or (p = 0 and 3*p < 0 and 6*p < 0 and 216*p**3 > 0 and 27*p**3 < 0) or (p = 0 and 3*p < 0 and 6*p < 0 and 216*p**3 > 0 and 27*p**3 = 0) or (p = 0 and 3*p < 0 and 6*p > 0 and 216*p**3 < 0 and 27*p**3 < 0) or (p = 0 and 3*p < 0 and 6*p > 0 and 216*p**3 < 0 and 27*p**3 = 0) or (p = 0 and 3*p < 0 and 6*p > 0 and 216*p**3 = 0 and 27*p**3 < 0) or (p = 0 and 3*p < 0 and 6*p > 0 and 216*p**3 = 0 and 27*p**3 = 0) or (p = 0 and 3*p < 0 and 6*p > 0 and 216*p**3 > 0 and 27*p**3 < 0) or (p = 0 and 3*p < 0 and 6*p > 0 and 216*p**3 > 0 and 27*p**3 = 0) or (p = 0 and 3*p = 0 and 6*p < 0 and 216*p**3 < 0 and 27*p**3 < 0) or (p = 0 and 3*p = 0 and 6*p < 0 and 216*p**3 < 0 and 27*p**3 = 0) or (p = 0 and 3*p = 0 and 6*p < 0 and 216*p**3 = 0 and 27*p**3 < 0) or (p = 0 and 3*p = 0 and 6*p < 0 and 216*p**3 = 0 and 27*p**3 = 0) or (p = 0 and 3*p = 0 and 6*p < 0 and 216*p**3 > 0 and 27*p**3 < 0) or (p = 0 and 3*p = 0 and 6*p < 0 and 216*p**3 > 0 and 27*p**3 = 0) or (p = 0 and 3*p = 0 and 6*p > 0 and 216*p**3 < 0 and 27*p**3 < 0) or (p = 0 and 3*p = 0 and 6*p > 0 and 216*p**3 < 0 and 27*p**3 = 0) or (p = 0 and 3*p = 0 and 6*p > 0 and 216*p**3 = 0 and 27*p**3 < 0) or (p = 0 and 3*p = 0 and 6*p > 0 and 216*p**3 = 0 and 27*p**3 = 0) or (p = 0 and 3*p = 0 and 6*p > 0 and 216*p**3 > 0 and 27*p**3 < 0) or (p = 0 and 3*p = 0 and 6*p > 0 and 216*p**3 > 0 and 27*p**3 = 0) or (p = 0 and 3*p > 0 and 6*p < 0 and 216*p**3 < 0 and 27*p**3 < 0) or (p = 0 and 3*p > 0 and 6*p < 0 and 216*p**3 < 0 and 27*p**3 = 0) or (p = 0 and 3*p > 0 and 6*p < 0 and 216*p**3 = 0 and 27*p**3 < 0) or (p = 0 and 3*p > 0 and 6*p < 0 and 216*p**3 = 0 and 27*p**3 = 0) or (p = 0 and 3*p > 0 and 6*p < 0 and 216*p**3 > 0 and 27*p**3 < 0) or (p = 0 and 3*p > 0 and 6*p < 0 and 216*p**3 > 0 and 27*p**3 = 0) or (p = 0 and 3*p > 0 and 6*p > 0 and 216*p**3 < 0 and 27*p**3 < 0) or (p = 0 and 3*p > 0 and 6*p > 0 and 216*p**3 < 0 and 27*p**3 = 0) or (p = 0 and 3*p > 0 and 6*p > 0 and 216*p**3 = 0 and 27*p**3 < 0) or (p = 0 and 3*p > 0 and 6*p > 0 and 216*p**3 = 0 and 27*p**3 = 0) or (p = 0 and 3*p > 0 and 6*p > 0 and 216*p**3 > 0 and 27*p**3 < 0) or (p = 0 and 3*p > 0 and 6*p > 0 and 216*p**3 > 0 and 27*p**3 = 0) or (p > 0 and 3*p < 0 and 6*p < 0 and 216*p**3 < 0 and 27*p**3 < 0) or (p > 0 and 3*p < 0 and 6*p < 0 and 216*p**3 < 0 and 27*p**3 = 0) or (p > 0 and 3*p < 0 and 6*p < 0 and 216*p**3 < 0 and 27*p**3 > 0) or (p > 0 and 3*p < 0 and 6*p < 0 and 216*p**3 = 0 and 27*p**3 < 0) or (p > 0 and 3*p < 0 and 6*p < 0 and 216*p**3 = 0 and 27*p**3 = 0) or (p > 0 and 3*p < 0 and 6*p < 0 and 216*p**3 = 0 and 27*p**3 > 0) or (p > 0 and 3*p < 0 and 6*p < 0 and 216*p**3 > 0 and 27*p**3 < 0) or (p > 0 and 3*p < 0 and 6*p < 0 and 216*p**3 > 0 and 27*p**3 = 0) or (p > 0 and 3*p < 0 and 6*p < 0 and 216*p**3 > 0 and 27*p**3 > 0) or (p > 0 and 3*p < 0 and 6*p = 0 and 216*p**3 < 0 and 27*p**3 < 0) or (p > 0 and 3*p < 0 and 6*p = 0 and 216*p**3 < 0 and 27*p**3 = 0) or (p > 0 and 3*p < 0 and 6*p = 0 and 216*p**3 < 0 and 27*p**3 > 0) or (p > 0 and 3*p < 0 and 6*p = 0 and 216*p**3 = 0 and 27*p**3 < 0) or (p > 0 and 3*p < 0 and 6*p = 0 and 216*p**3 = 0 and 27*p**3 = 0) or (p > 0 and 3*p < 0 and 6*p = 0 and 216*p**3 = 0 and 27*p**3 > 0) or (p > 0 and 3*p < 0 and 6*p = 0 and 216*p**3 > 0 and 27*p**3 < 0) or (p > 0 and 3*p < 0 and 6*p = 0 and 216*p**3 > 0 and 27*p**3 = 0) or (p > 0 and 3*p < 0 and 6*p = 0 and 216*p**3 > 0 and 27*p**3 > 0) or (p > 0 and 3*p < 0 and 6*p > 0 and 216*p**3 < 0 and 27*p**3 < 0) or (p > 0 and 3*p < 0 and 6*p > 0 and 216*p**3 < 0 and 27*p**3 = 0) or (p > 0 and 3*p < 0 and 6*p > 0 and 216*p**3 < 0 and 27*p**3 > 0) or (p > 0 and 3*p < 0 and 6*p > 0 and 216*p**3 = 0 and 27*p**3 < 0) or (p > 0 and 3*p < 0 and 6*p > 0 and 216*p**3 = 0 and 27*p**3 = 0) or (p > 0 and 3*p < 0 and 6*p > 0 and 216*p**3 = 0 and 27*p**3 > 0) or (p > 0 and 3*p < 0 and 6*p > 0 and 216*p**3 > 0 and 27*p**3 < 0) or (p > 0 and 3*p < 0 and 6*p > 0 and 216*p**3 > 0 and 27*p**3 = 0) or (p > 0 and 3*p < 0 and 6*p > 0 and 216*p**3 > 0 and 27*p**3 > 0) or (p > 0 and 3*p = 0 and 6*p < 0 and 216*p**3 < 0 and 27*p**3 < 0) or (p > 0 and 3*p = 0 and 6*p < 0 and 216*p**3 < 0 and 27*p**3 = 0) or (p > 0 and 3*p = 0 and 6*p < 0 and 216*p**3 < 0 and 27*p**3 > 0) or (p > 0 and 3*p = 0 and 6*p < 0 and 216*p**3 = 0 and 27*p**3 < 0) or (p > 0 and 3*p = 0 and 6*p < 0 and 216*p**3 = 0 and 27*p**3 = 0) or (p > 0 and 3*p = 0 and 6*p < 0 and 216*p**3 = 0 and 27*p**3 > 0) or (p > 0 and 3*p = 0 and 6*p < 0 and 216*p**3 > 0 and 27*p**3 < 0) or (p > 0 and 3*p = 0 and 6*p < 0 and 216*p**3 > 0 and 27*p**3 = 0) or (p > 0 and 3*p = 0 and 6*p < 0 and 216*p**3 > 0 and 27*p**3 > 0) or (p > 0 and 3*p = 0 and 6*p = 0 and 216*p**3 < 0 and 27*p**3 < 0) or (p > 0 and 3*p = 0 and 6*p = 0 and 216*p**3 < 0 and 27*p**3 = 0) or (p > 0 and 3*p = 0 and 6*p = 0 and 216*p**3 < 0 and 27*p**3 > 0) or (p > 0 and 3*p = 0 and 6*p = 0 and 216*p**3 = 0 and 27*p**3 < 0) or (p > 0 and 3*p = 0 and 6*p = 0 and 216*p**3 = 0 and 27*p**3 = 0) or (p > 0 and 3*p = 0 and 6*p = 0 and 216*p**3 = 0 and 27*p**3 > 0) or (p > 0 and 3*p = 0 and 6*p = 0 and 216*p**3 > 0 and 27*p**3 < 0) or (p > 0 and 3*p = 0 and 6*p = 0 and 216*p**3 > 0 and 27*p**3 = 0) or (p > 0 and 3*p = 0 and 6*p = 0 and 216*p**3 > 0 and 27*p**3 > 0) or (p > 0 and 3*p = 0 and 6*p > 0 and 216*p**3 < 0 and 27*p**3 < 0) or (p > 0 and 3*p = 0 and 6*p > 0 and 216*p**3 < 0 and 27*p**3 = 0) or (p > 0 and 3*p = 0 and 6*p > 0 and 216*p**3 < 0 and 27*p**3 > 0) or (p > 0 and 3*p = 0 and 6*p > 0 and 216*p**3 = 0 and 27*p**3 < 0) or (p > 0 and 3*p = 0 and 6*p > 0 and 216*p**3 = 0 and 27*p**3 = 0) or (p > 0 and 3*p = 0 and 6*p > 0 and 216*p**3 = 0 and 27*p**3 > 0) or (p > 0 and 3*p = 0 and 6*p > 0 and 216*p**3 > 0 and 27*p**3 < 0) or (p > 0 and 3*p = 0 and 6*p > 0 and 216*p**3 > 0 and 27*p**3 = 0) or (p > 0 and 3*p = 0 and 6*p > 0 and 216*p**3 > 0 and 27*p**3 > 0) or (p > 0 and 3*p > 0 and 6*p < 0 and 216*p**3 < 0 and 27*p**3 < 0) or (p > 0 and 3*p > 0 and 6*p < 0 and 216*p**3 < 0 and 27*p**3 = 0) or (p > 0 and 3*p > 0 and 6*p < 0 and 216*p**3 < 0 and 27*p**3 > 0) or (p > 0 and 3*p > 0 and 6*p < 0 and 216*p**3 = 0 and 27*p**3 < 0) or (p > 0 and 3*p > 0 and 6*p < 0 and 216*p**3 = 0 and 27*p**3 = 0) or (p > 0 and 3*p > 0 and 6*p < 0 and 216*p**3 = 0 and 27*p**3 > 0) or (p > 0 and 3*p > 0 and 6*p < 0 and 216*p**3 > 0 and 27*p**3 < 0) or (p > 0 and 3*p > 0 and 6*p < 0 and 216*p**3 > 0 and 27*p**3 = 0) or (p > 0 and 3*p > 0 and 6*p < 0 and 216*p**3 > 0 and 27*p**3 > 0) or (p > 0 and 3*p > 0 and 6*p = 0 and 216*p**3 < 0 and 27*p**3 < 0) or (p > 0 and 3*p > 0 and 6*p = 0 and 216*p**3 < 0 and 27*p**3 = 0) or (p > 0 and 3*p > 0 and 6*p = 0 and 216*p**3 < 0 and 27*p**3 > 0) or (p > 0 and 3*p > 0 and 6*p = 0 and 216*p**3 = 0 and 27*p**3 < 0) or (p > 0 and 3*p > 0 and 6*p = 0 and 216*p**3 = 0 and 27*p**3 = 0) or (p > 0 and 3*p > 0 and 6*p = 0 and 216*p**3 = 0 and 27*p**3 > 0) or (p > 0 and 3*p > 0 and 6*p = 0 and 216*p**3 > 0 and 27*p**3 < 0) or (p > 0 and 3*p > 0 and 6*p = 0 and 216*p**3 > 0 and 27*p**3 = 0) or (p > 0 and 3*p > 0 and 6*p = 0 and 216*p**3 > 0 and 27*p**3 > 0) or (p > 0 and 3*p > 0 and 6*p > 0 and 216*p**3 < 0 and 27*p**3 < 0) or (p > 0 and 3*p > 0 and 6*p > 0 and 216*p**3 < 0 and 27*p**3 = 0) or (p > 0 and 3*p > 0 and 6*p > 0 and 216*p**3 < 0 and 27*p**3 > 0) or (p > 0 and 3*p > 0 and 6*p > 0 and 216*p**3 = 0 and 27*p**3 < 0) or (p > 0 and 3*p > 0 and 6*p > 0 and 216*p**3 = 0 and 27*p**3 = 0) or (p > 0 and 3*p > 0 and 6*p > 0 and 216*p**3 = 0 and 27*p**3 > 0) or (p > 0 and 3*p > 0 and 6*p > 0 and 216*p**3 > 0 and 27*p**3 < 0) or (p > 0 and 3*p > 0 and 6*p > 0 and 216*p**3 > 0 and 27*p**3 = 0) or (p > 0 and 3*p > 0 and 6*p > 0 and 216*p**3 > 0 and 27*p**3 > 0)\n"
     ]
    }
   ],
   "source": [
    "x, p, q = symbols('x p q')\n",
    "pol = poly('p*x^3 + 1', x)\n",
    "formula = ''\n",
    "max_deg = deg(pol)\n",
    "container = all_polynoms(pol)\n",
    "countainer = unique_polynoms(container)\n",
    "container = drop_const(container)\n",
    "table_cont = pd.DataFrame(container)\n",
    "# display(table_cont)\n",
    "for i in range(3**len(container[0])):\n",
    "    table = select_sign(container[0], i)\n",
    "    for current_deg in range(1, max_deg + 1):\n",
    "        for number_of_polynom in range(len(container[current_deg])):\n",
    "            current_polynom = container[current_deg][number_of_polynom]\n",
    "            add_row(table, current_polynom, container)\n",
    "            current_cell_number = 0\n",
    "            len_row = len(table[-1])\n",
    "            while current_cell_number < len_row - 1:\n",
    "                if table[-1][current_cell_number] * table[-1][current_cell_number + 1] == -1:\n",
    "                    add_column(table, current_cell_number)\n",
    "                    current_cell_number += 1\n",
    "                    len_row += 1\n",
    "                current_cell_number += 1\n",
    "    # table_table = pd.DataFrame(table)\n",
    "    # display(table_table)\n",
    "    formula = add_to_formula(table, container, formula)\n",
    "    table.clear()\n",
    "container.clear()\n",
    "formula = formula[:-4]\n",
    "print(formula)"
   ]
  },
  {
   "cell_type": "code",
   "execution_count": 46,
   "id": "12ea3325",
   "metadata": {
    "scrolled": true
   },
   "outputs": [
    {
     "name": "stdout",
     "output_type": "stream",
     "text": [
      "(p + 5 < 0 and 2*p - 6 < 0 and 6 - 2*p < 0 and 4*p + 4 < 0 and p**2 + 10*p + 25 < 0) or (p + 5 < 0 and 2*p - 6 < 0 and 6 - 2*p < 0 and 4*p + 4 < 0 and p**2 + 10*p + 25 = 0) or (p + 5 < 0 and 2*p - 6 < 0 and 6 - 2*p < 0 and 4*p + 4 < 0 and p**2 + 10*p + 25 > 0) or (p + 5 < 0 and 2*p - 6 < 0 and 6 - 2*p < 0 and 4*p + 4 = 0 and p**2 + 10*p + 25 < 0) or (p + 5 < 0 and 2*p - 6 < 0 and 6 - 2*p < 0 and 4*p + 4 = 0 and p**2 + 10*p + 25 = 0) or (p + 5 < 0 and 2*p - 6 < 0 and 6 - 2*p < 0 and 4*p + 4 = 0 and p**2 + 10*p + 25 > 0) or (p + 5 < 0 and 2*p - 6 < 0 and 6 - 2*p < 0 and 4*p + 4 > 0 and p**2 + 10*p + 25 < 0) or (p + 5 < 0 and 2*p - 6 < 0 and 6 - 2*p < 0 and 4*p + 4 > 0 and p**2 + 10*p + 25 = 0) or (p + 5 < 0 and 2*p - 6 < 0 and 6 - 2*p = 0 and 4*p + 4 < 0 and p**2 + 10*p + 25 < 0) or (p + 5 < 0 and 2*p - 6 < 0 and 6 - 2*p = 0 and 4*p + 4 < 0 and p**2 + 10*p + 25 = 0) or (p + 5 < 0 and 2*p - 6 < 0 and 6 - 2*p = 0 and 4*p + 4 < 0 and p**2 + 10*p + 25 > 0) or (p + 5 < 0 and 2*p - 6 < 0 and 6 - 2*p = 0 and 4*p + 4 = 0 and p**2 + 10*p + 25 < 0) or (p + 5 < 0 and 2*p - 6 < 0 and 6 - 2*p = 0 and 4*p + 4 = 0 and p**2 + 10*p + 25 = 0) or (p + 5 < 0 and 2*p - 6 < 0 and 6 - 2*p = 0 and 4*p + 4 = 0 and p**2 + 10*p + 25 > 0) or (p + 5 < 0 and 2*p - 6 < 0 and 6 - 2*p = 0 and 4*p + 4 > 0 and p**2 + 10*p + 25 < 0) or (p + 5 < 0 and 2*p - 6 < 0 and 6 - 2*p = 0 and 4*p + 4 > 0 and p**2 + 10*p + 25 = 0) or (p + 5 < 0 and 2*p - 6 < 0 and 6 - 2*p > 0 and 4*p + 4 < 0 and p**2 + 10*p + 25 < 0) or (p + 5 < 0 and 2*p - 6 < 0 and 6 - 2*p > 0 and 4*p + 4 < 0 and p**2 + 10*p + 25 = 0) or (p + 5 < 0 and 2*p - 6 < 0 and 6 - 2*p > 0 and 4*p + 4 < 0 and p**2 + 10*p + 25 > 0) or (p + 5 < 0 and 2*p - 6 < 0 and 6 - 2*p > 0 and 4*p + 4 = 0 and p**2 + 10*p + 25 < 0) or (p + 5 < 0 and 2*p - 6 < 0 and 6 - 2*p > 0 and 4*p + 4 = 0 and p**2 + 10*p + 25 = 0) or (p + 5 < 0 and 2*p - 6 < 0 and 6 - 2*p > 0 and 4*p + 4 = 0 and p**2 + 10*p + 25 > 0) or (p + 5 < 0 and 2*p - 6 < 0 and 6 - 2*p > 0 and 4*p + 4 > 0 and p**2 + 10*p + 25 < 0) or (p + 5 < 0 and 2*p - 6 < 0 and 6 - 2*p > 0 and 4*p + 4 > 0 and p**2 + 10*p + 25 = 0) or (p + 5 < 0 and 2*p - 6 = 0 and 6 - 2*p < 0 and 4*p + 4 < 0 and p**2 + 10*p + 25 < 0) or (p + 5 < 0 and 2*p - 6 = 0 and 6 - 2*p < 0 and 4*p + 4 < 0 and p**2 + 10*p + 25 = 0) or (p + 5 < 0 and 2*p - 6 = 0 and 6 - 2*p < 0 and 4*p + 4 = 0 and p**2 + 10*p + 25 < 0) or (p + 5 < 0 and 2*p - 6 = 0 and 6 - 2*p < 0 and 4*p + 4 = 0 and p**2 + 10*p + 25 = 0) or (p + 5 < 0 and 2*p - 6 = 0 and 6 - 2*p < 0 and 4*p + 4 > 0 and p**2 + 10*p + 25 < 0) or (p + 5 < 0 and 2*p - 6 = 0 and 6 - 2*p < 0 and 4*p + 4 > 0 and p**2 + 10*p + 25 = 0) or (p + 5 < 0 and 2*p - 6 = 0 and 6 - 2*p = 0 and 4*p + 4 < 0 and p**2 + 10*p + 25 < 0) or (p + 5 < 0 and 2*p - 6 = 0 and 6 - 2*p = 0 and 4*p + 4 < 0 and p**2 + 10*p + 25 = 0) or (p + 5 < 0 and 2*p - 6 = 0 and 6 - 2*p = 0 and 4*p + 4 = 0 and p**2 + 10*p + 25 < 0) or (p + 5 < 0 and 2*p - 6 = 0 and 6 - 2*p = 0 and 4*p + 4 = 0 and p**2 + 10*p + 25 = 0) or (p + 5 < 0 and 2*p - 6 = 0 and 6 - 2*p = 0 and 4*p + 4 > 0 and p**2 + 10*p + 25 < 0) or (p + 5 < 0 and 2*p - 6 = 0 and 6 - 2*p = 0 and 4*p + 4 > 0 and p**2 + 10*p + 25 = 0) or (p + 5 < 0 and 2*p - 6 = 0 and 6 - 2*p > 0 and 4*p + 4 < 0 and p**2 + 10*p + 25 < 0) or (p + 5 < 0 and 2*p - 6 = 0 and 6 - 2*p > 0 and 4*p + 4 < 0 and p**2 + 10*p + 25 = 0) or (p + 5 < 0 and 2*p - 6 = 0 and 6 - 2*p > 0 and 4*p + 4 = 0 and p**2 + 10*p + 25 < 0) or (p + 5 < 0 and 2*p - 6 = 0 and 6 - 2*p > 0 and 4*p + 4 = 0 and p**2 + 10*p + 25 = 0) or (p + 5 < 0 and 2*p - 6 = 0 and 6 - 2*p > 0 and 4*p + 4 > 0 and p**2 + 10*p + 25 < 0) or (p + 5 < 0 and 2*p - 6 = 0 and 6 - 2*p > 0 and 4*p + 4 > 0 and p**2 + 10*p + 25 = 0) or (p + 5 < 0 and 2*p - 6 > 0 and 6 - 2*p < 0 and 4*p + 4 < 0 and p**2 + 10*p + 25 < 0) or (p + 5 < 0 and 2*p - 6 > 0 and 6 - 2*p < 0 and 4*p + 4 < 0 and p**2 + 10*p + 25 = 0) or (p + 5 < 0 and 2*p - 6 > 0 and 6 - 2*p < 0 and 4*p + 4 < 0 and p**2 + 10*p + 25 > 0) or (p + 5 < 0 and 2*p - 6 > 0 and 6 - 2*p < 0 and 4*p + 4 = 0 and p**2 + 10*p + 25 < 0) or (p + 5 < 0 and 2*p - 6 > 0 and 6 - 2*p < 0 and 4*p + 4 = 0 and p**2 + 10*p + 25 = 0) or (p + 5 < 0 and 2*p - 6 > 0 and 6 - 2*p < 0 and 4*p + 4 = 0 and p**2 + 10*p + 25 > 0) or (p + 5 < 0 and 2*p - 6 > 0 and 6 - 2*p < 0 and 4*p + 4 > 0 and p**2 + 10*p + 25 < 0) or (p + 5 < 0 and 2*p - 6 > 0 and 6 - 2*p < 0 and 4*p + 4 > 0 and p**2 + 10*p + 25 = 0) or (p + 5 < 0 and 2*p - 6 > 0 and 6 - 2*p = 0 and 4*p + 4 < 0 and p**2 + 10*p + 25 < 0) or (p + 5 < 0 and 2*p - 6 > 0 and 6 - 2*p = 0 and 4*p + 4 < 0 and p**2 + 10*p + 25 = 0) or (p + 5 < 0 and 2*p - 6 > 0 and 6 - 2*p = 0 and 4*p + 4 < 0 and p**2 + 10*p + 25 > 0) or (p + 5 < 0 and 2*p - 6 > 0 and 6 - 2*p = 0 and 4*p + 4 = 0 and p**2 + 10*p + 25 < 0) or (p + 5 < 0 and 2*p - 6 > 0 and 6 - 2*p = 0 and 4*p + 4 = 0 and p**2 + 10*p + 25 = 0) or (p + 5 < 0 and 2*p - 6 > 0 and 6 - 2*p = 0 and 4*p + 4 = 0 and p**2 + 10*p + 25 > 0) or (p + 5 < 0 and 2*p - 6 > 0 and 6 - 2*p = 0 and 4*p + 4 > 0 and p**2 + 10*p + 25 < 0) or (p + 5 < 0 and 2*p - 6 > 0 and 6 - 2*p = 0 and 4*p + 4 > 0 and p**2 + 10*p + 25 = 0) or (p + 5 < 0 and 2*p - 6 > 0 and 6 - 2*p > 0 and 4*p + 4 < 0 and p**2 + 10*p + 25 < 0) or (p + 5 < 0 and 2*p - 6 > 0 and 6 - 2*p > 0 and 4*p + 4 < 0 and p**2 + 10*p + 25 = 0) or (p + 5 < 0 and 2*p - 6 > 0 and 6 - 2*p > 0 and 4*p + 4 < 0 and p**2 + 10*p + 25 > 0) or (p + 5 < 0 and 2*p - 6 > 0 and 6 - 2*p > 0 and 4*p + 4 = 0 and p**2 + 10*p + 25 < 0) or (p + 5 < 0 and 2*p - 6 > 0 and 6 - 2*p > 0 and 4*p + 4 = 0 and p**2 + 10*p + 25 = 0) or (p + 5 < 0 and 2*p - 6 > 0 and 6 - 2*p > 0 and 4*p + 4 = 0 and p**2 + 10*p + 25 > 0) or (p + 5 < 0 and 2*p - 6 > 0 and 6 - 2*p > 0 and 4*p + 4 > 0 and p**2 + 10*p + 25 < 0) or (p + 5 < 0 and 2*p - 6 > 0 and 6 - 2*p > 0 and 4*p + 4 > 0 and p**2 + 10*p + 25 = 0) or (p + 5 = 0 and 2*p - 6 < 0 and 6 - 2*p < 0 and 4*p + 4 < 0 and p**2 + 10*p + 25 < 0) or (p + 5 = 0 and 2*p - 6 < 0 and 6 - 2*p < 0 and 4*p + 4 < 0 and p**2 + 10*p + 25 = 0) or (p + 5 = 0 and 2*p - 6 < 0 and 6 - 2*p < 0 and 4*p + 4 < 0 and p**2 + 10*p + 25 > 0) or (p + 5 = 0 and 2*p - 6 < 0 and 6 - 2*p < 0 and 4*p + 4 = 0 and p**2 + 10*p + 25 < 0) or (p + 5 = 0 and 2*p - 6 < 0 and 6 - 2*p < 0 and 4*p + 4 = 0 and p**2 + 10*p + 25 = 0) or (p + 5 = 0 and 2*p - 6 < 0 and 6 - 2*p < 0 and 4*p + 4 = 0 and p**2 + 10*p + 25 > 0) or (p + 5 = 0 and 2*p - 6 < 0 and 6 - 2*p < 0 and 4*p + 4 > 0 and p**2 + 10*p + 25 < 0) or (p + 5 = 0 and 2*p - 6 < 0 and 6 - 2*p < 0 and 4*p + 4 > 0 and p**2 + 10*p + 25 = 0) or (p + 5 = 0 and 2*p - 6 < 0 and 6 - 2*p = 0 and 4*p + 4 < 0 and p**2 + 10*p + 25 < 0) or (p + 5 = 0 and 2*p - 6 < 0 and 6 - 2*p = 0 and 4*p + 4 < 0 and p**2 + 10*p + 25 = 0) or (p + 5 = 0 and 2*p - 6 < 0 and 6 - 2*p = 0 and 4*p + 4 < 0 and p**2 + 10*p + 25 > 0) or (p + 5 = 0 and 2*p - 6 < 0 and 6 - 2*p = 0 and 4*p + 4 = 0 and p**2 + 10*p + 25 < 0) or (p + 5 = 0 and 2*p - 6 < 0 and 6 - 2*p = 0 and 4*p + 4 = 0 and p**2 + 10*p + 25 = 0) or (p + 5 = 0 and 2*p - 6 < 0 and 6 - 2*p = 0 and 4*p + 4 = 0 and p**2 + 10*p + 25 > 0) or (p + 5 = 0 and 2*p - 6 < 0 and 6 - 2*p = 0 and 4*p + 4 > 0 and p**2 + 10*p + 25 < 0) or (p + 5 = 0 and 2*p - 6 < 0 and 6 - 2*p = 0 and 4*p + 4 > 0 and p**2 + 10*p + 25 = 0) or (p + 5 = 0 and 2*p - 6 < 0 and 6 - 2*p > 0 and 4*p + 4 < 0 and p**2 + 10*p + 25 < 0) or (p + 5 = 0 and 2*p - 6 < 0 and 6 - 2*p > 0 and 4*p + 4 < 0 and p**2 + 10*p + 25 = 0) or (p + 5 = 0 and 2*p - 6 < 0 and 6 - 2*p > 0 and 4*p + 4 < 0 and p**2 + 10*p + 25 > 0) or (p + 5 = 0 and 2*p - 6 < 0 and 6 - 2*p > 0 and 4*p + 4 = 0 and p**2 + 10*p + 25 < 0) or (p + 5 = 0 and 2*p - 6 < 0 and 6 - 2*p > 0 and 4*p + 4 = 0 and p**2 + 10*p + 25 = 0) or (p + 5 = 0 and 2*p - 6 < 0 and 6 - 2*p > 0 and 4*p + 4 = 0 and p**2 + 10*p + 25 > 0) or (p + 5 = 0 and 2*p - 6 < 0 and 6 - 2*p > 0 and 4*p + 4 > 0 and p**2 + 10*p + 25 < 0) or (p + 5 = 0 and 2*p - 6 < 0 and 6 - 2*p > 0 and 4*p + 4 > 0 and p**2 + 10*p + 25 = 0) or (p + 5 = 0 and 2*p - 6 = 0 and 6 - 2*p < 0 and 4*p + 4 < 0 and p**2 + 10*p + 25 < 0) or (p + 5 = 0 and 2*p - 6 = 0 and 6 - 2*p < 0 and 4*p + 4 < 0 and p**2 + 10*p + 25 = 0) or (p + 5 = 0 and 2*p - 6 = 0 and 6 - 2*p < 0 and 4*p + 4 = 0 and p**2 + 10*p + 25 < 0) or (p + 5 = 0 and 2*p - 6 = 0 and 6 - 2*p < 0 and 4*p + 4 = 0 and p**2 + 10*p + 25 = 0) or (p + 5 = 0 and 2*p - 6 = 0 and 6 - 2*p < 0 and 4*p + 4 > 0 and p**2 + 10*p + 25 < 0) or (p + 5 = 0 and 2*p - 6 = 0 and 6 - 2*p < 0 and 4*p + 4 > 0 and p**2 + 10*p + 25 = 0) or (p + 5 = 0 and 2*p - 6 = 0 and 6 - 2*p = 0 and 4*p + 4 < 0 and p**2 + 10*p + 25 < 0) or (p + 5 = 0 and 2*p - 6 = 0 and 6 - 2*p = 0 and 4*p + 4 < 0 and p**2 + 10*p + 25 = 0) or (p + 5 = 0 and 2*p - 6 = 0 and 6 - 2*p = 0 and 4*p + 4 = 0 and p**2 + 10*p + 25 < 0) or (p + 5 = 0 and 2*p - 6 = 0 and 6 - 2*p = 0 and 4*p + 4 = 0 and p**2 + 10*p + 25 = 0) or (p + 5 = 0 and 2*p - 6 = 0 and 6 - 2*p = 0 and 4*p + 4 > 0 and p**2 + 10*p + 25 < 0) or (p + 5 = 0 and 2*p - 6 = 0 and 6 - 2*p = 0 and 4*p + 4 > 0 and p**2 + 10*p + 25 = 0) or (p + 5 = 0 and 2*p - 6 = 0 and 6 - 2*p > 0 and 4*p + 4 < 0 and p**2 + 10*p + 25 < 0) or (p + 5 = 0 and 2*p - 6 = 0 and 6 - 2*p > 0 and 4*p + 4 < 0 and p**2 + 10*p + 25 = 0) or (p + 5 = 0 and 2*p - 6 = 0 and 6 - 2*p > 0 and 4*p + 4 = 0 and p**2 + 10*p + 25 < 0) or (p + 5 = 0 and 2*p - 6 = 0 and 6 - 2*p > 0 and 4*p + 4 = 0 and p**2 + 10*p + 25 = 0) or (p + 5 = 0 and 2*p - 6 = 0 and 6 - 2*p > 0 and 4*p + 4 > 0 and p**2 + 10*p + 25 < 0) or (p + 5 = 0 and 2*p - 6 = 0 and 6 - 2*p > 0 and 4*p + 4 > 0 and p**2 + 10*p + 25 = 0) or (p + 5 = 0 and 2*p - 6 > 0 and 6 - 2*p < 0 and 4*p + 4 < 0 and p**2 + 10*p + 25 < 0) or (p + 5 = 0 and 2*p - 6 > 0 and 6 - 2*p < 0 and 4*p + 4 < 0 and p**2 + 10*p + 25 = 0) or (p + 5 = 0 and 2*p - 6 > 0 and 6 - 2*p < 0 and 4*p + 4 < 0 and p**2 + 10*p + 25 > 0) or (p + 5 = 0 and 2*p - 6 > 0 and 6 - 2*p < 0 and 4*p + 4 = 0 and p**2 + 10*p + 25 < 0) or (p + 5 = 0 and 2*p - 6 > 0 and 6 - 2*p < 0 and 4*p + 4 = 0 and p**2 + 10*p + 25 = 0) or (p + 5 = 0 and 2*p - 6 > 0 and 6 - 2*p < 0 and 4*p + 4 = 0 and p**2 + 10*p + 25 > 0) or (p + 5 = 0 and 2*p - 6 > 0 and 6 - 2*p < 0 and 4*p + 4 > 0 and p**2 + 10*p + 25 < 0) or (p + 5 = 0 and 2*p - 6 > 0 and 6 - 2*p < 0 and 4*p + 4 > 0 and p**2 + 10*p + 25 = 0) or (p + 5 = 0 and 2*p - 6 > 0 and 6 - 2*p = 0 and 4*p + 4 < 0 and p**2 + 10*p + 25 < 0) or (p + 5 = 0 and 2*p - 6 > 0 and 6 - 2*p = 0 and 4*p + 4 < 0 and p**2 + 10*p + 25 = 0) or (p + 5 = 0 and 2*p - 6 > 0 and 6 - 2*p = 0 and 4*p + 4 < 0 and p**2 + 10*p + 25 > 0) or (p + 5 = 0 and 2*p - 6 > 0 and 6 - 2*p = 0 and 4*p + 4 = 0 and p**2 + 10*p + 25 < 0) or (p + 5 = 0 and 2*p - 6 > 0 and 6 - 2*p = 0 and 4*p + 4 = 0 and p**2 + 10*p + 25 = 0) or (p + 5 = 0 and 2*p - 6 > 0 and 6 - 2*p = 0 and 4*p + 4 = 0 and p**2 + 10*p + 25 > 0) or (p + 5 = 0 and 2*p - 6 > 0 and 6 - 2*p = 0 and 4*p + 4 > 0 and p**2 + 10*p + 25 < 0) or (p + 5 = 0 and 2*p - 6 > 0 and 6 - 2*p = 0 and 4*p + 4 > 0 and p**2 + 10*p + 25 = 0) or (p + 5 = 0 and 2*p - 6 > 0 and 6 - 2*p > 0 and 4*p + 4 < 0 and p**2 + 10*p + 25 < 0) or (p + 5 = 0 and 2*p - 6 > 0 and 6 - 2*p > 0 and 4*p + 4 < 0 and p**2 + 10*p + 25 = 0) or (p + 5 = 0 and 2*p - 6 > 0 and 6 - 2*p > 0 and 4*p + 4 < 0 and p**2 + 10*p + 25 > 0) or (p + 5 = 0 and 2*p - 6 > 0 and 6 - 2*p > 0 and 4*p + 4 = 0 and p**2 + 10*p + 25 < 0) or (p + 5 = 0 and 2*p - 6 > 0 and 6 - 2*p > 0 and 4*p + 4 = 0 and p**2 + 10*p + 25 = 0) or (p + 5 = 0 and 2*p - 6 > 0 and 6 - 2*p > 0 and 4*p + 4 = 0 and p**2 + 10*p + 25 > 0) or (p + 5 = 0 and 2*p - 6 > 0 and 6 - 2*p > 0 and 4*p + 4 > 0 and p**2 + 10*p + 25 < 0) or (p + 5 = 0 and 2*p - 6 > 0 and 6 - 2*p > 0 and 4*p + 4 > 0 and p**2 + 10*p + 25 = 0) or (p + 5 > 0 and 2*p - 6 < 0 and 6 - 2*p < 0 and 4*p + 4 < 0 and p**2 + 10*p + 25 < 0) or (p + 5 > 0 and 2*p - 6 < 0 and 6 - 2*p < 0 and 4*p + 4 < 0 and p**2 + 10*p + 25 = 0) or (p + 5 > 0 and 2*p - 6 < 0 and 6 - 2*p < 0 and 4*p + 4 < 0 and p**2 + 10*p + 25 > 0) or (p + 5 > 0 and 2*p - 6 < 0 and 6 - 2*p < 0 and 4*p + 4 = 0 and p**2 + 10*p + 25 < 0) or (p + 5 > 0 and 2*p - 6 < 0 and 6 - 2*p < 0 and 4*p + 4 = 0 and p**2 + 10*p + 25 = 0) or (p + 5 > 0 and 2*p - 6 < 0 and 6 - 2*p < 0 and 4*p + 4 = 0 and p**2 + 10*p + 25 > 0) or (p + 5 > 0 and 2*p - 6 < 0 and 6 - 2*p < 0 and 4*p + 4 > 0 and p**2 + 10*p + 25 < 0) or (p + 5 > 0 and 2*p - 6 < 0 and 6 - 2*p < 0 and 4*p + 4 > 0 and p**2 + 10*p + 25 = 0) or (p + 5 > 0 and 2*p - 6 < 0 and 6 - 2*p = 0 and 4*p + 4 < 0 and p**2 + 10*p + 25 < 0) or (p + 5 > 0 and 2*p - 6 < 0 and 6 - 2*p = 0 and 4*p + 4 < 0 and p**2 + 10*p + 25 = 0) or (p + 5 > 0 and 2*p - 6 < 0 and 6 - 2*p = 0 and 4*p + 4 < 0 and p**2 + 10*p + 25 > 0) or (p + 5 > 0 and 2*p - 6 < 0 and 6 - 2*p = 0 and 4*p + 4 = 0 and p**2 + 10*p + 25 < 0) or (p + 5 > 0 and 2*p - 6 < 0 and 6 - 2*p = 0 and 4*p + 4 = 0 and p**2 + 10*p + 25 = 0) or (p + 5 > 0 and 2*p - 6 < 0 and 6 - 2*p = 0 and 4*p + 4 = 0 and p**2 + 10*p + 25 > 0) or (p + 5 > 0 and 2*p - 6 < 0 and 6 - 2*p = 0 and 4*p + 4 > 0 and p**2 + 10*p + 25 < 0) or (p + 5 > 0 and 2*p - 6 < 0 and 6 - 2*p = 0 and 4*p + 4 > 0 and p**2 + 10*p + 25 = 0) or (p + 5 > 0 and 2*p - 6 < 0 and 6 - 2*p > 0 and 4*p + 4 < 0 and p**2 + 10*p + 25 < 0) or (p + 5 > 0 and 2*p - 6 < 0 and 6 - 2*p > 0 and 4*p + 4 < 0 and p**2 + 10*p + 25 = 0) or (p + 5 > 0 and 2*p - 6 < 0 and 6 - 2*p > 0 and 4*p + 4 < 0 and p**2 + 10*p + 25 > 0) or (p + 5 > 0 and 2*p - 6 < 0 and 6 - 2*p > 0 and 4*p + 4 = 0 and p**2 + 10*p + 25 < 0) or (p + 5 > 0 and 2*p - 6 < 0 and 6 - 2*p > 0 and 4*p + 4 = 0 and p**2 + 10*p + 25 = 0) or (p + 5 > 0 and 2*p - 6 < 0 and 6 - 2*p > 0 and 4*p + 4 = 0 and p**2 + 10*p + 25 > 0) or (p + 5 > 0 and 2*p - 6 < 0 and 6 - 2*p > 0 and 4*p + 4 > 0 and p**2 + 10*p + 25 < 0) or (p + 5 > 0 and 2*p - 6 < 0 and 6 - 2*p > 0 and 4*p + 4 > 0 and p**2 + 10*p + 25 = 0) or (p + 5 > 0 and 2*p - 6 = 0 and 6 - 2*p < 0 and 4*p + 4 < 0 and p**2 + 10*p + 25 < 0) or (p + 5 > 0 and 2*p - 6 = 0 and 6 - 2*p < 0 and 4*p + 4 < 0 and p**2 + 10*p + 25 = 0) or (p + 5 > 0 and 2*p - 6 = 0 and 6 - 2*p < 0 and 4*p + 4 = 0 and p**2 + 10*p + 25 < 0) or (p + 5 > 0 and 2*p - 6 = 0 and 6 - 2*p < 0 and 4*p + 4 = 0 and p**2 + 10*p + 25 = 0) or (p + 5 > 0 and 2*p - 6 = 0 and 6 - 2*p < 0 and 4*p + 4 > 0 and p**2 + 10*p + 25 < 0) or (p + 5 > 0 and 2*p - 6 = 0 and 6 - 2*p < 0 and 4*p + 4 > 0 and p**2 + 10*p + 25 = 0) or (p + 5 > 0 and 2*p - 6 = 0 and 6 - 2*p = 0 and 4*p + 4 < 0 and p**2 + 10*p + 25 < 0) or (p + 5 > 0 and 2*p - 6 = 0 and 6 - 2*p = 0 and 4*p + 4 < 0 and p**2 + 10*p + 25 = 0) or (p + 5 > 0 and 2*p - 6 = 0 and 6 - 2*p = 0 and 4*p + 4 = 0 and p**2 + 10*p + 25 < 0) or (p + 5 > 0 and 2*p - 6 = 0 and 6 - 2*p = 0 and 4*p + 4 = 0 and p**2 + 10*p + 25 = 0) or (p + 5 > 0 and 2*p - 6 = 0 and 6 - 2*p = 0 and 4*p + 4 > 0 and p**2 + 10*p + 25 < 0) or (p + 5 > 0 and 2*p - 6 = 0 and 6 - 2*p = 0 and 4*p + 4 > 0 and p**2 + 10*p + 25 = 0) or (p + 5 > 0 and 2*p - 6 = 0 and 6 - 2*p > 0 and 4*p + 4 < 0 and p**2 + 10*p + 25 < 0) or (p + 5 > 0 and 2*p - 6 = 0 and 6 - 2*p > 0 and 4*p + 4 < 0 and p**2 + 10*p + 25 = 0) or (p + 5 > 0 and 2*p - 6 = 0 and 6 - 2*p > 0 and 4*p + 4 = 0 and p**2 + 10*p + 25 < 0) or (p + 5 > 0 and 2*p - 6 = 0 and 6 - 2*p > 0 and 4*p + 4 = 0 and p**2 + 10*p + 25 = 0) or (p + 5 > 0 and 2*p - 6 = 0 and 6 - 2*p > 0 and 4*p + 4 > 0 and p**2 + 10*p + 25 < 0) or (p + 5 > 0 and 2*p - 6 = 0 and 6 - 2*p > 0 and 4*p + 4 > 0 and p**2 + 10*p + 25 = 0) or (p + 5 > 0 and 2*p - 6 > 0 and 6 - 2*p < 0 and 4*p + 4 < 0 and p**2 + 10*p + 25 < 0) or (p + 5 > 0 and 2*p - 6 > 0 and 6 - 2*p < 0 and 4*p + 4 < 0 and p**2 + 10*p + 25 = 0) or (p + 5 > 0 and 2*p - 6 > 0 and 6 - 2*p < 0 and 4*p + 4 < 0 and p**2 + 10*p + 25 > 0) or (p + 5 > 0 and 2*p - 6 > 0 and 6 - 2*p < 0 and 4*p + 4 = 0 and p**2 + 10*p + 25 < 0) or (p + 5 > 0 and 2*p - 6 > 0 and 6 - 2*p < 0 and 4*p + 4 = 0 and p**2 + 10*p + 25 = 0) or (p + 5 > 0 and 2*p - 6 > 0 and 6 - 2*p < 0 and 4*p + 4 = 0 and p**2 + 10*p + 25 > 0) or (p + 5 > 0 and 2*p - 6 > 0 and 6 - 2*p < 0 and 4*p + 4 > 0 and p**2 + 10*p + 25 < 0) or (p + 5 > 0 and 2*p - 6 > 0 and 6 - 2*p < 0 and 4*p + 4 > 0 and p**2 + 10*p + 25 = 0) or (p + 5 > 0 and 2*p - 6 > 0 and 6 - 2*p = 0 and 4*p + 4 < 0 and p**2 + 10*p + 25 < 0) or (p + 5 > 0 and 2*p - 6 > 0 and 6 - 2*p = 0 and 4*p + 4 < 0 and p**2 + 10*p + 25 = 0) or (p + 5 > 0 and 2*p - 6 > 0 and 6 - 2*p = 0 and 4*p + 4 < 0 and p**2 + 10*p + 25 > 0) or (p + 5 > 0 and 2*p - 6 > 0 and 6 - 2*p = 0 and 4*p + 4 = 0 and p**2 + 10*p + 25 < 0) or (p + 5 > 0 and 2*p - 6 > 0 and 6 - 2*p = 0 and 4*p + 4 = 0 and p**2 + 10*p + 25 = 0) or (p + 5 > 0 and 2*p - 6 > 0 and 6 - 2*p = 0 and 4*p + 4 = 0 and p**2 + 10*p + 25 > 0) or (p + 5 > 0 and 2*p - 6 > 0 and 6 - 2*p = 0 and 4*p + 4 > 0 and p**2 + 10*p + 25 < 0) or (p + 5 > 0 and 2*p - 6 > 0 and 6 - 2*p = 0 and 4*p + 4 > 0 and p**2 + 10*p + 25 = 0) or (p + 5 > 0 and 2*p - 6 > 0 and 6 - 2*p > 0 and 4*p + 4 < 0 and p**2 + 10*p + 25 < 0) or (p + 5 > 0 and 2*p - 6 > 0 and 6 - 2*p > 0 and 4*p + 4 < 0 and p**2 + 10*p + 25 = 0) or (p + 5 > 0 and 2*p - 6 > 0 and 6 - 2*p > 0 and 4*p + 4 < 0 and p**2 + 10*p + 25 > 0) or (p + 5 > 0 and 2*p - 6 > 0 and 6 - 2*p > 0 and 4*p + 4 = 0 and p**2 + 10*p + 25 < 0) or (p + 5 > 0 and 2*p - 6 > 0 and 6 - 2*p > 0 and 4*p + 4 = 0 and p**2 + 10*p + 25 = 0) or (p + 5 > 0 and 2*p - 6 > 0 and 6 - 2*p > 0 and 4*p + 4 = 0 and p**2 + 10*p + 25 > 0) or (p + 5 > 0 and 2*p - 6 > 0 and 6 - 2*p > 0 and 4*p + 4 > 0 and p**2 + 10*p + 25 < 0) or (p + 5 > 0 and 2*p - 6 > 0 and 6 - 2*p > 0 and 4*p + 4 > 0 and p**2 + 10*p + 25 = 0)\n"
     ]
    }
   ],
   "source": [
    "x, p, q = symbols('x p q')\n",
    "pol = poly('x^2 + 4*x + 5 + p', x)\n",
    "algorithm(pol)"
   ]
  }
 ],
 "metadata": {
  "kernelspec": {
   "display_name": "Python 3 (ipykernel)",
   "language": "python",
   "name": "python3"
  },
  "language_info": {
   "codemirror_mode": {
    "name": "ipython",
    "version": 3
   },
   "file_extension": ".py",
   "mimetype": "text/x-python",
   "name": "python",
   "nbconvert_exporter": "python",
   "pygments_lexer": "ipython3",
   "version": "3.9.9"
  }
 },
 "nbformat": 4,
 "nbformat_minor": 5
}
